{
 "cells": [
  {
   "cell_type": "code",
   "execution_count": 1,
   "id": "d05e28ab-eea0-4c3f-af1e-48c55ceb48cd",
   "metadata": {},
   "outputs": [],
   "source": [
    "import pandas as pd \n",
    "import numpy as np\n",
    "import matplotlib.pyplot as plt\n",
    "from scipy.stats.mstats import winsorize\n",
    "import seaborn as sns\n",
    "from scipy import stats\n",
    "from scipy.stats import mstats"
   ]
  },
  {
   "cell_type": "code",
   "execution_count": 2,
   "id": "2b644e58-f7d9-40a8-80a2-3d46416c2720",
   "metadata": {},
   "outputs": [],
   "source": [
    "\n",
    "def clean_phase_1(df, path):\n",
    "    df = pd.read_csv(path)\n",
    "    \n",
    "    #change target 2 to 1\n",
    "    df.loc[df['target'] == 2, 'target'] = 1\n",
    "    \n",
    "    #clean max heart rate remove outliers\n",
    "    df['max heart rate'] = winsorize(df['max heart rate'], limits=[0.01, 0.001])\n",
    "    \n",
    "    #clean chest pain type = 0 to chest pain type mode value\n",
    "    df.loc[df['Chest pain type'] == 0, 'Chest pain type'] = df['Chest pain type'].mode()[0]\n",
    "    \n",
    "    #clean ST slope = 0 to ST slope mode value\n",
    "    df.loc[df['ST slope'] == 0, 'ST slope'] = df['ST slope'].mode()[0]\n",
    "    \n",
    "    #clean cholesterol\n",
    "    df.loc[df['cholesterol'] == 0, 'cholesterol'] = df['cholesterol'].median()\n",
    "    df['cholesterol'] = winsorize(df['cholesterol'], limits=[0.01, 0.05])\n",
    "    \n",
    "    #clean trestbps\n",
    "    df.loc[df['trestbps'] == 0, 'trestbps'] = df['trestbps'].median()\n",
    "    df['trestbps'] = winsorize(df['trestbps'], limits=[0.01, 0.05])\n",
    "    \n",
    "    #clean old peak\n",
    "    df['oldpeak'] = winsorize(df['oldpeak'], limits=[0.01, 0.05])\n",
    "    df['oldpeak_yeojohnson'], lambda_param = stats.yeojohnson(df['oldpeak'])\n",
    "    df['oldpeak'] = df['oldpeak_yeojohnson']\n",
    "    df = df.drop(['oldpeak_yeojohnson'], axis=1)\n",
    "    return df"
   ]
  },
  {
   "cell_type": "code",
   "execution_count": 3,
   "id": "b56c4c55-5ba1-4718-9e0a-be4f834572ba",
   "metadata": {},
   "outputs": [],
   "source": [
    "#clean collected data before merge\n",
    "def remap_collected_data(df):\n",
    "\n",
    "    #remap slope and cp\n",
    "    df['slope'] = df['slope'] + 1\n",
    "    df['cp'] = df['cp'] + 1\n",
    "\n",
    "    #remova ca and thal\n",
    "    df.drop(columns=['ca', 'thal'], axis=1)\n",
    "    \n",
    "    #map cols name of target merge data to the same cols in original data\n",
    "    df.columns = ['age', 'sex', 'Chest pain type', 'trestbps', 'cholesterol', 'fasting blood sugar', 'resting ecg', 'max heart rate', 'exercise angina', 'oldpeak', 'ST slope', 'target']\n",
    "    return df"
   ]
  },
  {
   "cell_type": "code",
   "execution_count": 4,
   "id": "3030be05-9772-49a8-8df7-3488056675ea",
   "metadata": {},
   "outputs": [],
   "source": [
    "def merge_data_phase_2(df, df1, df2, path_data1, path_data2, path_data3, target_file):\n",
    "    merge12 = pd.merge(df, remap_collected_data(df1), how='outer')\n",
    "    merge23 = pd.merge(merge12, remap_collected_data(df2), how='outer')\n",
    "    final_merge = clean_phase_1(merge23)\n",
    "    return final_merge"
   ]
  },
  {
   "cell_type": "code",
   "execution_count": 5,
   "id": "19347c57-1aa5-4b2b-bb18-7f6dff11e181",
   "metadata": {},
   "outputs": [
    {
     "ename": "SyntaxError",
     "evalue": "invalid syntax (4180911174.py, line 10)",
     "output_type": "error",
     "traceback": [
      "\u001b[0;36m  Cell \u001b[0;32mIn[5], line 10\u001b[0;36m\u001b[0m\n\u001b[0;31m    cleaned_original_df =\u001b[0m\n\u001b[0m                          ^\u001b[0m\n\u001b[0;31mSyntaxError\u001b[0m\u001b[0;31m:\u001b[0m invalid syntax\n"
     ]
    }
   ],
   "source": [
    "DATA_PATH_ORIGIN = ''\n",
    "MERGE_DATA_1 = ''\n",
    "MERGE_DATA_2 = ''\n",
    "\n",
    "df = pd.read_csv(DATA_PATH_ORIGIN)\n",
    "df1 = pd.read_csv(MERGE_DATA_1)\n",
    "df2 = pd.read_csv(MERGE_DATA_2)\n",
    "\n",
    "#export data to csv\n",
    "cleaned_original_df = "
   ]
  }
 ],
 "metadata": {
  "kernelspec": {
   "display_name": "base",
   "language": "python",
   "name": "python3"
  },
  "language_info": {
   "codemirror_mode": {
    "name": "ipython",
    "version": 3
   },
   "file_extension": ".py",
   "mimetype": "text/x-python",
   "name": "python",
   "nbconvert_exporter": "python",
   "pygments_lexer": "ipython3",
   "version": "3.11.7"
  }
 },
 "nbformat": 4,
 "nbformat_minor": 5
}
